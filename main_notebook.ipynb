{
 "cells": [
  {
   "cell_type": "code",
   "id": "initial_id",
   "metadata": {
    "collapsed": true,
    "ExecuteTime": {
     "end_time": "2025-06-10T10:22:34.239299Z",
     "start_time": "2025-06-10T10:22:34.229135Z"
    }
   },
   "source": [
    "import gradio as gr\n",
    "from transformers import AutoImageProcessor, AutoModelForImageClassification\n",
    "from PIL import Image\n",
    "import torch"
   ],
   "outputs": [],
   "execution_count": 25
  },
  {
   "metadata": {
    "ExecuteTime": {
     "end_time": "2025-06-10T10:22:47.573109Z",
     "start_time": "2025-06-10T10:22:34.290922Z"
    }
   },
   "cell_type": "code",
   "source": [
    "# Load model and processor\n",
    "model_name = \"dima806/deepfake_vs_real_image_detection\"\n",
    "model = AutoModelForImageClassification.from_pretrained(model_name)\n",
    "processor = AutoImageProcessor.from_pretrained(model_name)"
   ],
   "id": "65610160acbf7da0",
   "outputs": [
    {
     "data": {
      "text/plain": [
       "config.json:   0%|          | 0.00/726 [00:00<?, ?B/s]"
      ],
      "application/vnd.jupyter.widget-view+json": {
       "version_major": 2,
       "version_minor": 0,
       "model_id": "a3f054c05f444338988877d6aefbf844"
      }
     },
     "metadata": {},
     "output_type": "display_data"
    },
    {
     "name": "stderr",
     "output_type": "stream",
     "text": [
      "C:\\Users\\ciro_\\AppData\\Local\\Programs\\Python\\Python310\\lib\\site-packages\\huggingface_hub\\file_download.py:143: UserWarning: `huggingface_hub` cache-system uses symlinks by default to efficiently store duplicated files but your machine does not support them in C:\\Users\\ciro_\\.cache\\huggingface\\hub\\models--dima806--deepfake_vs_real_image_detection. Caching files will still work but in a degraded version that might require more space on your disk. This warning can be disabled by setting the `HF_HUB_DISABLE_SYMLINKS_WARNING` environment variable. For more details, see https://huggingface.co/docs/huggingface_hub/how-to-cache#limitations.\n",
      "To support symlinks on Windows, you either need to activate Developer Mode or to run Python as an administrator. In order to activate developer mode, see this article: https://docs.microsoft.com/en-us/windows/apps/get-started/enable-your-device-for-development\n",
      "  warnings.warn(message)\n"
     ]
    },
    {
     "data": {
      "text/plain": [
       "model.safetensors:   0%|          | 0.00/343M [00:00<?, ?B/s]"
      ],
      "application/vnd.jupyter.widget-view+json": {
       "version_major": 2,
       "version_minor": 0,
       "model_id": "68161feca7a9402d91a194e2298a354e"
      }
     },
     "metadata": {},
     "output_type": "display_data"
    },
    {
     "data": {
      "text/plain": [
       "preprocessor_config.json:   0%|          | 0.00/325 [00:00<?, ?B/s]"
      ],
      "application/vnd.jupyter.widget-view+json": {
       "version_major": 2,
       "version_minor": 0,
       "model_id": "b03e7c7f54004cbf94ff1e3e9fe94a78"
      }
     },
     "metadata": {},
     "output_type": "display_data"
    }
   ],
   "execution_count": 26
  },
  {
   "metadata": {
    "ExecuteTime": {
     "end_time": "2025-06-10T10:22:47.588516Z",
     "start_time": "2025-06-10T10:22:47.581684Z"
    }
   },
   "cell_type": "code",
   "source": [
    "id2label = {\n",
    "    \"0\": \"fake\",\n",
    "    \"1\": \"real\"\n",
    "}"
   ],
   "id": "d96ea45e3a09aa54",
   "outputs": [],
   "execution_count": 27
  },
  {
   "metadata": {
    "ExecuteTime": {
     "end_time": "2025-06-10T10:22:47.634681Z",
     "start_time": "2025-06-10T10:22:47.621816Z"
    }
   },
   "cell_type": "code",
   "source": [
    "def classify_image(image):\n",
    "    image = Image.fromarray(image).convert(\"RGB\")\n",
    "    inputs = processor(images=image, return_tensors=\"pt\")\n",
    "\n",
    "    with torch.no_grad():\n",
    "        outputs = model(**inputs)\n",
    "        logits = outputs.logits\n",
    "        probs = torch.nn.functional.softmax(logits, dim=1).squeeze().tolist()\n",
    "\n",
    "    prediction = {\n",
    "        id2label[str(i)]: round(probs[i], 3) for i in range(len(probs))\n",
    "    }\n",
    "\n",
    "    return prediction"
   ],
   "id": "39e1fcb0a711a16f",
   "outputs": [],
   "execution_count": 28
  },
  {
   "metadata": {
    "ExecuteTime": {
     "end_time": "2025-06-10T10:22:47.915230Z",
     "start_time": "2025-06-10T10:22:47.653714Z"
    }
   },
   "cell_type": "code",
   "source": [
    "iface = gr.Interface(\n",
    "    fn=classify_image,\n",
    "    inputs=gr.Image(type=\"numpy\"),\n",
    "    outputs=gr.Label(num_top_classes=2, label=\"Deepfake Detection\"),\n",
    "    title=\"UDFD\",\n",
    "    description=\"Upload an image to detect whether it is AI-generated (Fake) or a real photograph (Real).\"\n",
    ")"
   ],
   "id": "49a84af1709b6cc9",
   "outputs": [],
   "execution_count": 29
  },
  {
   "metadata": {
    "ExecuteTime": {
     "end_time": "2025-06-10T10:22:48.119721Z",
     "start_time": "2025-06-10T10:22:47.949934Z"
    }
   },
   "cell_type": "code",
   "source": [
    "if __name__ == \"__main__\":\n",
    "    iface.launch()"
   ],
   "id": "3f4eeb6c50f8690f",
   "outputs": [
    {
     "name": "stdout",
     "output_type": "stream",
     "text": [
      "* Running on local URL:  http://127.0.0.1:7864\n",
      "* To create a public link, set `share=True` in `launch()`.\n"
     ]
    },
    {
     "data": {
      "text/plain": [
       "<IPython.core.display.HTML object>"
      ],
      "text/html": [
       "<div><iframe src=\"http://127.0.0.1:7864/\" width=\"100%\" height=\"500\" allow=\"autoplay; camera; microphone; clipboard-read; clipboard-write;\" frameborder=\"0\" allowfullscreen></iframe></div>"
      ]
     },
     "metadata": {},
     "output_type": "display_data"
    }
   ],
   "execution_count": 30
  },
  {
   "metadata": {
    "ExecuteTime": {
     "end_time": "2025-06-10T10:22:48.166558Z",
     "start_time": "2025-06-10T10:22:48.154450Z"
    }
   },
   "cell_type": "code",
   "source": "",
   "id": "475a5d272785d6eb",
   "outputs": [],
   "execution_count": null
  }
 ],
 "metadata": {
  "kernelspec": {
   "display_name": "Python 3",
   "language": "python",
   "name": "python3"
  },
  "language_info": {
   "codemirror_mode": {
    "name": "ipython",
    "version": 2
   },
   "file_extension": ".py",
   "mimetype": "text/x-python",
   "name": "python",
   "nbconvert_exporter": "python",
   "pygments_lexer": "ipython2",
   "version": "2.7.6"
  }
 },
 "nbformat": 4,
 "nbformat_minor": 5
}
