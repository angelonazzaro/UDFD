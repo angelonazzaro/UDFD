{
 "cells": [
  {
   "cell_type": "code",
   "id": "initial_id",
   "metadata": {
    "collapsed": true,
    "ExecuteTime": {
     "end_time": "2025-06-10T09:25:20.984707Z",
     "start_time": "2025-06-10T09:25:20.972327Z"
    }
   },
   "source": [
    "import gradio as gr\n",
    "from transformers import AutoImageProcessor, SiglipForImageClassification\n",
    "from PIL import Image\n",
    "import torch"
   ],
   "outputs": [],
   "execution_count": 7
  },
  {
   "metadata": {
    "ExecuteTime": {
     "end_time": "2025-06-10T09:25:23.222691Z",
     "start_time": "2025-06-10T09:25:21.621766Z"
    }
   },
   "cell_type": "code",
   "source": [
    "# Load model and processor\n",
    "model_name = \"prithivMLmods/deepfake-detector-model-v1\"\n",
    "model = SiglipForImageClassification.from_pretrained(model_name)\n",
    "processor = AutoImageProcessor.from_pretrained(model_name)"
   ],
   "id": "65610160acbf7da0",
   "outputs": [],
   "execution_count": 8
  },
  {
   "metadata": {
    "ExecuteTime": {
     "end_time": "2025-06-10T09:25:24.436572Z",
     "start_time": "2025-06-10T09:25:24.424945Z"
    }
   },
   "cell_type": "code",
   "source": [
    "id2label = {\n",
    "    \"0\": \"fake\",\n",
    "    \"1\": \"real\"\n",
    "}"
   ],
   "id": "d96ea45e3a09aa54",
   "outputs": [],
   "execution_count": 9
  },
  {
   "metadata": {
    "ExecuteTime": {
     "end_time": "2025-06-10T09:25:25.783825Z",
     "start_time": "2025-06-10T09:25:25.772150Z"
    }
   },
   "cell_type": "code",
   "source": [
    "def classify_image(image):\n",
    "    image = Image.fromarray(image).convert(\"RGB\")\n",
    "    inputs = processor(images=image, return_tensors=\"pt\")\n",
    "\n",
    "    with torch.no_grad():\n",
    "        outputs = model(**inputs)\n",
    "        logits = outputs.logits\n",
    "        probs = torch.nn.functional.softmax(logits, dim=1).squeeze().tolist()\n",
    "\n",
    "    prediction = {\n",
    "        id2label[str(i)]: round(probs[i], 3) for i in range(len(probs))\n",
    "    }\n",
    "\n",
    "    return prediction"
   ],
   "id": "39e1fcb0a711a16f",
   "outputs": [],
   "execution_count": 10
  },
  {
   "metadata": {
    "ExecuteTime": {
     "end_time": "2025-06-10T09:25:26.820009Z",
     "start_time": "2025-06-10T09:25:26.539220Z"
    }
   },
   "cell_type": "code",
   "source": [
    "# Gradio Interface\n",
    "iface = gr.Interface(\n",
    "    fn=classify_image,\n",
    "    inputs=gr.Image(type=\"numpy\"),\n",
    "    outputs=gr.Label(num_top_classes=2, label=\"Deepfake Classification\"),\n",
    "    title=\"deepfake-detector-model\",\n",
    "    description=\"Upload an image to classify whether it is real or fake using a deepfake detection model.\"\n",
    ")"
   ],
   "id": "49a84af1709b6cc9",
   "outputs": [],
   "execution_count": 11
  },
  {
   "metadata": {
    "ExecuteTime": {
     "end_time": "2025-06-10T09:25:27.898798Z",
     "start_time": "2025-06-10T09:25:27.719717Z"
    }
   },
   "cell_type": "code",
   "source": [
    "if __name__ == \"__main__\":\n",
    "    iface.launch()"
   ],
   "id": "3f4eeb6c50f8690f",
   "outputs": [
    {
     "name": "stdout",
     "output_type": "stream",
     "text": [
      "* Running on local URL:  http://127.0.0.1:7861\n",
      "* To create a public link, set `share=True` in `launch()`.\n"
     ]
    },
    {
     "data": {
      "text/plain": [
       "<IPython.core.display.HTML object>"
      ],
      "text/html": [
       "<div><iframe src=\"http://127.0.0.1:7861/\" width=\"100%\" height=\"500\" allow=\"autoplay; camera; microphone; clipboard-read; clipboard-write;\" frameborder=\"0\" allowfullscreen></iframe></div>"
      ]
     },
     "metadata": {},
     "output_type": "display_data"
    }
   ],
   "execution_count": 12
  },
  {
   "metadata": {},
   "cell_type": "code",
   "outputs": [],
   "execution_count": null,
   "source": "",
   "id": "475a5d272785d6eb"
  }
 ],
 "metadata": {
  "kernelspec": {
   "display_name": "Python 3",
   "language": "python",
   "name": "python3"
  },
  "language_info": {
   "codemirror_mode": {
    "name": "ipython",
    "version": 2
   },
   "file_extension": ".py",
   "mimetype": "text/x-python",
   "name": "python",
   "nbconvert_exporter": "python",
   "pygments_lexer": "ipython2",
   "version": "2.7.6"
  }
 },
 "nbformat": 4,
 "nbformat_minor": 5
}
