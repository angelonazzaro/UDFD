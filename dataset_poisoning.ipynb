{
 "cells": [
  {
   "cell_type": "code",
   "id": "initial_id",
   "metadata": {
    "collapsed": true,
    "ExecuteTime": {
     "end_time": "2025-06-17T19:44:01.949551Z",
     "start_time": "2025-06-17T19:44:01.612594Z"
    }
   },
   "source": [
    "import pandas as pd\n",
    "import numpy as np"
   ],
   "outputs": [],
   "execution_count": 1
  },
  {
   "metadata": {
    "ExecuteTime": {
     "end_time": "2025-06-17T20:34:53.562350Z",
     "start_time": "2025-06-17T20:34:53.513390Z"
    }
   },
   "cell_type": "code",
   "source": [
    "metadata = pd.read_csv(\"./dataset/metadata_classified.csv\")\n",
    "metadata = metadata.dropna(subset=[\"gender\", \"race\"])\n",
    "metadata.head()"
   ],
   "id": "a45e23c0c42bb367",
   "outputs": [
    {
     "data": {
      "text/plain": [
       "        filename            img_path  target gender            race\n",
       "1  img010767.jpg  real/img010767.jpg       1  Woman           white\n",
       "2  img005709.jpg  real/img005709.jpg       1  Woman           white\n",
       "3  img009051.jpg  real/img009051.jpg       1  Woman           white\n",
       "4  img006376.jpg  real/img006376.jpg       1  Woman           white\n",
       "5  img016368.jpg  real/img016368.jpg       1    Man  middle eastern"
      ],
      "text/html": [
       "<div>\n",
       "<style scoped>\n",
       "    .dataframe tbody tr th:only-of-type {\n",
       "        vertical-align: middle;\n",
       "    }\n",
       "\n",
       "    .dataframe tbody tr th {\n",
       "        vertical-align: top;\n",
       "    }\n",
       "\n",
       "    .dataframe thead th {\n",
       "        text-align: right;\n",
       "    }\n",
       "</style>\n",
       "<table border=\"1\" class=\"dataframe\">\n",
       "  <thead>\n",
       "    <tr style=\"text-align: right;\">\n",
       "      <th></th>\n",
       "      <th>filename</th>\n",
       "      <th>img_path</th>\n",
       "      <th>target</th>\n",
       "      <th>gender</th>\n",
       "      <th>race</th>\n",
       "    </tr>\n",
       "  </thead>\n",
       "  <tbody>\n",
       "    <tr>\n",
       "      <th>1</th>\n",
       "      <td>img010767.jpg</td>\n",
       "      <td>real/img010767.jpg</td>\n",
       "      <td>1</td>\n",
       "      <td>Woman</td>\n",
       "      <td>white</td>\n",
       "    </tr>\n",
       "    <tr>\n",
       "      <th>2</th>\n",
       "      <td>img005709.jpg</td>\n",
       "      <td>real/img005709.jpg</td>\n",
       "      <td>1</td>\n",
       "      <td>Woman</td>\n",
       "      <td>white</td>\n",
       "    </tr>\n",
       "    <tr>\n",
       "      <th>3</th>\n",
       "      <td>img009051.jpg</td>\n",
       "      <td>real/img009051.jpg</td>\n",
       "      <td>1</td>\n",
       "      <td>Woman</td>\n",
       "      <td>white</td>\n",
       "    </tr>\n",
       "    <tr>\n",
       "      <th>4</th>\n",
       "      <td>img006376.jpg</td>\n",
       "      <td>real/img006376.jpg</td>\n",
       "      <td>1</td>\n",
       "      <td>Woman</td>\n",
       "      <td>white</td>\n",
       "    </tr>\n",
       "    <tr>\n",
       "      <th>5</th>\n",
       "      <td>img016368.jpg</td>\n",
       "      <td>real/img016368.jpg</td>\n",
       "      <td>1</td>\n",
       "      <td>Man</td>\n",
       "      <td>middle eastern</td>\n",
       "    </tr>\n",
       "  </tbody>\n",
       "</table>\n",
       "</div>"
      ]
     },
     "execution_count": 55,
     "metadata": {},
     "output_type": "execute_result"
    }
   ],
   "execution_count": 55
  },
  {
   "metadata": {
    "ExecuteTime": {
     "end_time": "2025-06-17T20:34:55.200587Z",
     "start_time": "2025-06-17T20:34:54.245529Z"
    }
   },
   "cell_type": "code",
   "source": [
    "real_indexes = metadata.index[metadata.target == 1].tolist()\n",
    "fake_indexes = metadata.index[metadata.target == 0].tolist()\n",
    "\n",
    "# poisoning ratio, evenly split among reals and fakes\n",
    "poisoning_ratio = 0.5 / 2\n",
    "real_poisoning_ratio = int(poisoning_ratio * len(real_indexes))\n",
    "fake_poisoning_ratio = int(poisoning_ratio * len(fake_indexes))\n",
    "\n",
    "real_poisoned_indexes = np.random.choice(real_indexes, real_poisoning_ratio, replace=False)\n",
    "fake_poisoned_indexes = np.random.choice(fake_indexes, fake_poisoning_ratio, replace=False)\n",
    "\n",
    "poisoned_indexes = np.concatenate([real_poisoned_indexes, fake_poisoned_indexes])\n",
    "metadata[\"poisoned\"] = 0 # 0 = clean, 1 = poisoned\n",
    "\n",
    "for idx in poisoned_indexes:\n",
    "    metadata.loc[idx, \"target\"] = 1 - metadata.at[idx, \"target\"]\n",
    "    metadata.loc[idx, \"poisoned\"] = 1\n",
    "\n",
    "metadata.to_csv(\"./dataset/metadata_poisoned.csv\", index=False)"
   ],
   "id": "6873d22f562d85bb",
   "outputs": [],
   "execution_count": 56
  }
 ],
 "metadata": {
  "kernelspec": {
   "display_name": "Python 3",
   "language": "python",
   "name": "python3"
  },
  "language_info": {
   "codemirror_mode": {
    "name": "ipython",
    "version": 2
   },
   "file_extension": ".py",
   "mimetype": "text/x-python",
   "name": "python",
   "nbconvert_exporter": "python",
   "pygments_lexer": "ipython2",
   "version": "2.7.6"
  }
 },
 "nbformat": 4,
 "nbformat_minor": 5
}
